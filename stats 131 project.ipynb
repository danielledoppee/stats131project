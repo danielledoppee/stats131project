{
 "cells": [
  {
   "cell_type": "markdown",
   "metadata": {},
   "source": [
    "# Statistics 131 Final Project: Secondary Infertility\n",
    "By: Aurora Cardenas & Danielle Doppee\n",
    "\n",
    "## Introduction\n",
    "\n",
    "Our data comes from a study at the University of Athens Medical School in Greece in 1976. The data was collected from women admitted to the First Department of Obstetrics and Gynaecology or the Divisons of Fertility and Sterility whom were complaining of secondary infertility. Secondary infertility is defined as, after a first pregnancy and labor, the inability to carry the pregnancy long enough to deliver a baby. The purpose of this study was to determine how induced and spontaneous abortions affect secondary infertility. Spontaneous abortions are considered miscarriages of pregnancy. Induced abortions were illegal at the time that the study was conducted and were majorly performed with the technique of dilation and curettage, which is a surgical procedure in which the cervix is opened (dilated) and a thin instrument is inserted into the uterus to remove uterine tissue. This is a very risky procedure that would not have been performed by trained medical doctors or nurses because of the legality issues surrounding abortions in Greece in the 1970's. \n",
    "\n",
    "Out of 110 women which matched study criteria of previous conception, married, husbands with normal semen analysis, and had been trying to become pregnant for over a year and a half, 100 were admitted into the study. For each of the 100 women in the study, researchers attempted to find two other women with similar age, level of education, and parity to be control subjects for the case subjects in the matched case-control study. Parity is defined as the number of pregnancies carried to a viable gestational term--meaning the babies had fully formed organ systems, and would be able to sustain their own life with the help of a medical team. \n",
    "\n",
    "The researchers were only able to find control matches for 83 of the original 100 subjects, so only these 83 women made it into the final sample of the study. The purpose of the matched case-control study design was to minimize bias within the study. To be considered in the study as a control, a woman had to have been on her next pregnancy-- meaning she had identical characteristics to the woman considered the case (age, parity, and level of education), except for the fact that she was pregnant again. For example, if the case subeject had given birth once before, and was complaining of secondary infertility, then the control subject for that subject was identical in study characteristics with the exception of being in her second pregnancy. This only served to show that the control women were still fertile, otherwise the current pregnancy was not taken into account. \n",
    "\n",
    "The nature of this data will heavily effect the method of analysis. The matched-case structure means that the proportions of secondary infertility in this data are known and pre-chosen which limits our ability to make conclusions. The method of analysis we have chosen to pursue is logistic regression to predict secondary infertility from the features collected from the women in the study. We will look at two logistic regression models and discuss the important features such as coefficients, p values, accuracy of prediction, and more. \n",
    "\n",
    "\n",
    "## The Data & Light Cleaning\n",
    "\n",
    "Below, you will see the structure of the data as well as explanations of the variables found in the abortions dataset. "
   ]
  },
  {
   "cell_type": "code",
   "execution_count": 3,
   "metadata": {},
   "outputs": [
    {
     "data": {
      "text/html": [
       "<div>\n",
       "<style scoped>\n",
       "    .dataframe tbody tr th:only-of-type {\n",
       "        vertical-align: middle;\n",
       "    }\n",
       "\n",
       "    .dataframe tbody tr th {\n",
       "        vertical-align: top;\n",
       "    }\n",
       "\n",
       "    .dataframe thead th {\n",
       "        text-align: right;\n",
       "    }\n",
       "</style>\n",
       "<table border=\"1\" class=\"dataframe\">\n",
       "  <thead>\n",
       "    <tr style=\"text-align: right;\">\n",
       "      <th></th>\n",
       "      <th>education</th>\n",
       "      <th>age</th>\n",
       "      <th>parity</th>\n",
       "      <th>induced</th>\n",
       "      <th>case</th>\n",
       "      <th>spontaneous</th>\n",
       "      <th>stratum</th>\n",
       "      <th>pooled.stratum</th>\n",
       "    </tr>\n",
       "  </thead>\n",
       "  <tbody>\n",
       "    <tr>\n",
       "      <th>0</th>\n",
       "      <td>0-5yrs</td>\n",
       "      <td>26</td>\n",
       "      <td>6</td>\n",
       "      <td>1</td>\n",
       "      <td>1</td>\n",
       "      <td>2</td>\n",
       "      <td>1</td>\n",
       "      <td>3</td>\n",
       "    </tr>\n",
       "    <tr>\n",
       "      <th>1</th>\n",
       "      <td>0-5yrs</td>\n",
       "      <td>42</td>\n",
       "      <td>1</td>\n",
       "      <td>1</td>\n",
       "      <td>1</td>\n",
       "      <td>0</td>\n",
       "      <td>2</td>\n",
       "      <td>1</td>\n",
       "    </tr>\n",
       "    <tr>\n",
       "      <th>2</th>\n",
       "      <td>0-5yrs</td>\n",
       "      <td>39</td>\n",
       "      <td>6</td>\n",
       "      <td>2</td>\n",
       "      <td>1</td>\n",
       "      <td>0</td>\n",
       "      <td>3</td>\n",
       "      <td>4</td>\n",
       "    </tr>\n",
       "    <tr>\n",
       "      <th>3</th>\n",
       "      <td>0-5yrs</td>\n",
       "      <td>34</td>\n",
       "      <td>4</td>\n",
       "      <td>2</td>\n",
       "      <td>1</td>\n",
       "      <td>0</td>\n",
       "      <td>4</td>\n",
       "      <td>2</td>\n",
       "    </tr>\n",
       "    <tr>\n",
       "      <th>4</th>\n",
       "      <td>6-11yrs</td>\n",
       "      <td>35</td>\n",
       "      <td>3</td>\n",
       "      <td>1</td>\n",
       "      <td>1</td>\n",
       "      <td>1</td>\n",
       "      <td>5</td>\n",
       "      <td>32</td>\n",
       "    </tr>\n",
       "  </tbody>\n",
       "</table>\n",
       "</div>"
      ],
      "text/plain": [
       "  education  age  parity  induced  case  spontaneous  stratum  pooled.stratum\n",
       "0    0-5yrs   26       6        1     1            2        1               3\n",
       "1    0-5yrs   42       1        1     1            0        2               1\n",
       "2    0-5yrs   39       6        2     1            0        3               4\n",
       "3    0-5yrs   34       4        2     1            0        4               2\n",
       "4   6-11yrs   35       3        1     1            1        5              32"
      ]
     },
     "execution_count": 3,
     "metadata": {},
     "output_type": "execute_result"
    }
   ],
   "source": [
    "#packages\n",
    "import numpy as np\n",
    "import pandas as pd\n",
    "import os \n",
    "import seaborn as sns\n",
    "import matplotlib.pyplot as plt\n",
    "from sklearn import preprocessing\n",
    "from sklearn.model_selection import train_test_split\n",
    "from sklearn.linear_model import LogisticRegression\n",
    "from sklearn import metrics\n",
    "from sklearn import model_selection\n",
    "from scipy.stats import chisquare\n",
    "from sklearn.metrics import confusion_matrix\n",
    "\n",
    "os.chdir(\"/Users/Danielle/Downloads\")\n",
    "abortion=pd.read_csv(\"abortions.csv\")\n",
    "abortion=abortion.drop(\"Unnamed: 0\",1) \n",
    "abortion.head()\n",
    "\n"
   ]
  },
  {
   "cell_type": "markdown",
   "metadata": {},
   "source": [
    "In this section, we define the variables of interest and discuss decisions about data cleaning and viewing. \n",
    "\n",
    "The variable __education__ is a categorical variable used for classifying the number of years of education of a woman. A value of 0-5 years is the lowest level of education meaning a woman had either no education, or never got to middle school level; 6-11 years means a woman had gone to middle or high school but did not finish that portion of education; 12+ years means a woman graduated at the high school level and possibly went to college or other forms of higher education. The variable __age__ is a continuous variable representing the age of the mother at the time of data collection. The variable __parity__ is a continuous variable for the number of pregnancies carried to a viable gestational term. A viable gestational term is 20 or more weeks into a pregnancy. The variable __induced__ is a categorical variable indicating the number of times a patient had an induced abortion. A value of 0 or 1 represents that number of induced abortions, but a value of 2 indicates 2 or more induced abortions. The variable __spontaneous__ is a categorical variable indicating the number of times a patient had a spontaneous abortion. A value of 0 or 1 represents that number of spontaneous  abortions, but a value of 2 indicates 2 or more spontaneous abortions. __Case__ is a binary variable representing if a woman did or did not experience infertility with values of 1 or 0.  The other variables included in the analysis are for pairing up a case and controls for the matched case structure of the data, but were not used in analysis so we will not mention them in detail. \n",
    "\n",
    "There was not much to be done in terms of data cleaning. The dataset we decided to explore was very clean already. Most decisions made to alter variables were for aesthetic purposes.  In order to produce graphics which fully represent the data and variables, we decided to revalue a few of the categorical variables. We changed values of (2) to (2+) for spontaneous and induced as well as took away bulky units on the variable education. \n"
   ]
  },
  {
   "cell_type": "code",
   "execution_count": 4,
   "metadata": {},
   "outputs": [],
   "source": [
    "#revalued for ease in plotting\n",
    "abortion.induced=abortion.induced.replace([0,1,2],['0','1','2+'])\n",
    "correct = ['0','1','2+']\n",
    "abortion.induced = pd.Categorical(abortion.induced, correct)\n",
    "abortion.spontaneous=abortion.spontaneous.replace([0,1,2],['0','1','2+'])\n",
    "abortion.spontaneous = pd.Categorical(abortion.spontaneous, correct)\n",
    "\n",
    "abortion.education=abortion.education.replace([\"0-5yrs\",\"6-11yrs\",\"12+ yrs\"],[\"0-5\",\"6-11\",\"12+\"])\n",
    "correct2 = [\"0-5\",\"6-11\",\"12+\"]\n",
    "abortion.education = pd.Categorical(abortion.education, correct2)\n"
   ]
  },
  {
   "cell_type": "markdown",
   "metadata": {},
   "source": [
    "## Exploratory Analysis\n",
    "Now, we will look into the variable distributions and trends within our dataset.  Based on the way this data was collected and study subjects were chosen, we expect 166 control and 83 cases of secondary infertility; a perfect 2:1 ratio. However, only 82 of our case subjects had 2 control matches; 1 subject, stratum 74, has only 1 control match, which accounts for these frequencies below. We do not expect this discrepancy to have an effect on analysis. "
   ]
  },
  {
   "cell_type": "code",
   "execution_count": 5,
   "metadata": {},
   "outputs": [
    {
     "name": "stdout",
     "output_type": "stream",
     "text": [
      "   case\n",
      "0   165\n",
      "1    83\n"
     ]
    }
   ],
   "source": [
    "print(pd.DataFrame(abortion.case.value_counts()))\n"
   ]
  },
  {
   "cell_type": "markdown",
   "metadata": {},
   "source": [
    "We begin our exploration into predictors with our first variable in the data, education. "
   ]
  },
  {
   "cell_type": "code",
   "execution_count": 6,
   "metadata": {},
   "outputs": [
    {
     "data": {
      "image/png": "[encoded data removed]",
      "text/plain": [
       "<matplotlib.figure.Figure at 0x10a271470>"
      ]
     },
     "metadata": {},
     "output_type": "display_data"
    },
    {
     "name": "stdout",
     "output_type": "stream",
     "text": [
      "6-11    120\n",
      "12+     116\n",
      "0-5      12\n",
      "Name: education, dtype: int64\n"
     ]
    }
   ],
   "source": [
    "seq_col_brew = sns.color_palette(\"Reds\", 3)\n",
    "sns.set_palette(seq_col_brew)\n",
    "sns.countplot(x='education', data=abortion)\n",
    "plt.title(\"Distribtion of Education in Years\")\n",
    "plt.show()\n",
    "print(abortion.education.value_counts()) "
   ]
  },
  {
   "cell_type": "markdown",
   "metadata": {},
   "source": [
    "In the above plot, we see the distribution of the education variable. There are similar frequencies of education for women having 6-11 years and 12+ years of education. Very few women which participated in the study have low levels of education. \n",
    "\n"
   ]
  },
  {
   "cell_type": "code",
   "execution_count": 7,
   "metadata": {},
   "outputs": [
    {
     "data": {
      "image/png": "[encoded data removed]",
      "text/plain": [
       "<matplotlib.figure.Figure at 0x1a0eed4710>"
      ]
     },
     "metadata": {},
     "output_type": "display_data"
    }
   ],
   "source": [
    "seq_col_brew = sns.color_palette(\"Reds\", 2)\n",
    "sns.set_palette(seq_col_brew)\n",
    "plot1=sns.countplot(x = 'education',hue = \"case\",data = abortion)\n",
    "plt.title(\"Distribution of Education Abortions by Case\")\n",
    "new_labels = ['No Secondary Infertility', 'Secondary Infertility']\n",
    "plot1.legend(labels=new_labels)\n",
    "plt.show()\n"
   ]
  },
  {
   "cell_type": "markdown",
   "metadata": {},
   "source": [
    "Here we see another similar trend among groups of education--indicating independence. \n",
    "\n",
    "\n",
    "Next, we moved on to the variable induced."
   ]
  },
  {
   "cell_type": "code",
   "execution_count": 8,
   "metadata": {},
   "outputs": [
    {
     "data": {
      "image/png": "[encoded data removed]",
      "text/plain": [
       "<matplotlib.figure.Figure at 0x107b146d8>"
      ]
     },
     "metadata": {},
     "output_type": "display_data"
    }
   ],
   "source": [
    "seq_col_brew = sns.color_palette(\"Reds\", 3)\n",
    "sns.set_palette(seq_col_brew)\n",
    "sns.countplot(x = 'induced',data = abortion)\n",
    "plt.title(\"Distribution of Induced Abortions\")\n",
    "plt.show()"
   ]
  },
  {
   "cell_type": "markdown",
   "metadata": {},
   "source": [
    "We see the barplot above which shows the overall distribution of induced abortions. There are many women who have never had an induced abortion. As the number of induced abortions increases, the frequency of women decreases. \n",
    "\n",
    "Based on the study paper's background information of dangerous induced abortion methods used in Greece in the 70's, we expected to see a high proportion of women with 2+ induced abortions having secondary infertility. However, we do not see this relationship. "
   ]
  },
  {
   "cell_type": "code",
   "execution_count": 9,
   "metadata": {},
   "outputs": [
    {
     "data": {
      "image/png": "[encoded data removed]",
      "text/plain": [
       "<matplotlib.figure.Figure at 0x1a17f064e0>"
      ]
     },
     "metadata": {},
     "output_type": "display_data"
    }
   ],
   "source": [
    "seq_col_brew = sns.color_palette(\"Reds\", 2)\n",
    "sns.set_palette(seq_col_brew)\n",
    "plot1=sns.countplot(x = 'induced',hue = \"case\",data = abortion)\n",
    "plt.title(\"Distribution of Induced Abortions by Case\")\n",
    "new_labels = ['No Secondary Infertility', 'Secondary Infertility']\n",
    "plot1.legend(labels=new_labels)\n",
    "plt.show()\n",
    "\n"
   ]
  },
  {
   "cell_type": "markdown",
   "metadata": {},
   "source": [
    "In fact, we see similar rates of having secondary infertility and not having secondary infertility among groups of women with similar histories of induced abortions. This indicates that induced abortions may be, at least in the case of this data, independent of secondary infertility. It most likely will not be able to predict secondary infertility alone.\n",
    "\n",
    "Next, we explored the variable spontaneous. \n",
    "\n",
    "Below, we see the barplot of the distribution of spontaneous abortions. It has a very similar distribution to induced abortions.  Most of the study women have never had a miscarriage. "
   ]
  },
  {
   "cell_type": "code",
   "execution_count": 10,
   "metadata": {},
   "outputs": [
    {
     "data": {
      "image/png": "[encoded data removed]",
      "text/plain": [
       "<matplotlib.figure.Figure at 0x1a180db4e0>"
      ]
     },
     "metadata": {},
     "output_type": "display_data"
    }
   ],
   "source": [
    "seq_col_brew = sns.color_palette(\"Reds\", 3)\n",
    "sns.set_palette(seq_col_brew)\n",
    "sns.countplot(x = 'spontaneous',data = abortion)\n",
    "plt.title(\"Distribution of Spontaneous Abortions\")\n",
    "plt.show()"
   ]
  },
  {
   "cell_type": "markdown",
   "metadata": {},
   "source": [
    "We were interested to see how spontaneous abortions were related to secondary infertility.\n",
    "\n",
    "In the plot below, we see the distribution of spontaneous abortions (miscarriages) by case. As the number of spontaneous abortions increase, we see an increase in case of secondary infertility. This makes intuitive sense because miscarriages may indicate biologicical complications for child-bearing. We believe this will be an important predictor of secondary infertility.  "
   ]
  },
  {
   "cell_type": "code",
   "execution_count": 11,
   "metadata": {},
   "outputs": [
    {
     "data": {
      "image/png": "[encoded data removed]",
      "text/plain": [
       "<matplotlib.figure.Figure at 0x1a17f3f668>"
      ]
     },
     "metadata": {},
     "output_type": "display_data"
    }
   ],
   "source": [
    "seq_col_brew = sns.color_palette(\"Reds\", 2)\n",
    "sns.set_palette(seq_col_brew)\n",
    "plot2 = sns.countplot(x = 'spontaneous',hue = \"case\",data = abortion)\n",
    "plt.title(\"Distribution of Spontaneous Abortions by Case\")\n",
    "new_labels = ['No Secondary Infertility', 'Secondary Infertility']\n",
    "plot2.legend(labels=new_labels)\n",
    "plt.show()"
   ]
  },
  {
   "cell_type": "markdown",
   "metadata": {},
   "source": [
    "Next up is the variable Age. \n",
    "\n",
    "The histogram below shows the distribution of the continuous variable age. We see a bimodal distribtion. Also included below is the summary for this variable. We see that the mean and the median are close in value which indicates that the data is not skewed. The youngest subject in the study was 21 and the oldest was 44. "
   ]
  },
  {
   "cell_type": "code",
   "execution_count": 12,
   "metadata": {},
   "outputs": [
    {
     "data": {
      "image/png": "[encoded data removed]",
      "text/plain": [
       "<matplotlib.figure.Figure at 0x1a181bc080>"
      ]
     },
     "metadata": {},
     "output_type": "display_data"
    },
    {
     "name": "stdout",
     "output_type": "stream",
     "text": [
      "              age\n",
      "count  248.000000\n",
      "mean    31.504032\n",
      "std      5.251565\n",
      "min     21.000000\n",
      "25%     28.000000\n",
      "50%     31.000000\n",
      "75%     35.250000\n",
      "max     44.000000\n"
     ]
    }
   ],
   "source": [
    "seq_col_brew = sns.color_palette(\"Reds\", 1)\n",
    "sns.set_palette(seq_col_brew)\n",
    "\n",
    "\n",
    "plt.hist(x = \"age\",data = abortion,edgecolor = \"black\",linewidth = 1.5)\n",
    "plt.title(\"Histogram of age\")\n",
    "plt.xlabel(\"Age\")\n",
    "plt.show()\n",
    "print(pd.DataFrame(abortion.age.describe()))"
   ]
  },
  {
   "cell_type": "markdown",
   "metadata": {},
   "source": [
    "Below, we looked into the distribution of age by case. Overall the age variable looks independent of secondary infertility because we see the same trend in both groups.  This is due to the matched case nature of the study. "
   ]
  },
  {
   "cell_type": "code",
   "execution_count": 13,
   "metadata": {},
   "outputs": [
    {
     "data": {
      "image/png": "[encoded data removed]",
      "text/plain": [
       "<matplotlib.figure.Figure at 0x1a17f96ba8>"
      ]
     },
     "metadata": {},
     "output_type": "display_data"
    }
   ],
   "source": [
    "import warnings; warnings.simplefilter('ignore')\n",
    "\n",
    "plt.hist([abortion.loc[abortion.case ==0].age,abortion.loc[abortion.case ==1].age],color = [\"r\",\"maroon\"])\n",
    "plt.title(\"Distribution of Age by Case\")\n",
    "plt.xlabel(\"Age\")\n",
    "plt.ylabel(\"Frequency\")\n",
    "plt.legend([\"No Secondary Infertility\",\"Secondary Infertility\"])\n",
    "plt.show()"
   ]
  },
  {
   "cell_type": "markdown",
   "metadata": {},
   "source": [
    "On to parity!"
   ]
  },
  {
   "cell_type": "code",
   "execution_count": 14,
   "metadata": {},
   "outputs": [
    {
     "data": {
      "image/png": "[encoded data removed]",
      "text/plain": [
       "<matplotlib.figure.Figure at 0x1a17f06cf8>"
      ]
     },
     "metadata": {},
     "output_type": "display_data"
    },
    {
     "name": "stdout",
     "output_type": "stream",
     "text": [
      "           parity\n",
      "count  248.000000\n",
      "mean     2.092742\n",
      "std      1.251504\n",
      "min      1.000000\n",
      "25%      1.000000\n",
      "50%      2.000000\n",
      "75%      3.000000\n",
      "max      6.000000\n"
     ]
    }
   ],
   "source": [
    "seq_col_brew = sns.color_palette(\"Reds\", 6)\n",
    "sns.set_palette(seq_col_brew)\n",
    "sns.countplot(x = \"parity\",data = abortion)\n",
    "plt.title(\"Distribution of parity\")\n",
    "plt.show()\n",
    "print(pd.DataFrame(abortion.parity.describe()))\n"
   ]
  },
  {
   "cell_type": "markdown",
   "metadata": {},
   "source": [
    "Above, we have included the barplot for the distribution of parity. We see a negative trend in this variable. This is telling of the distribution of the number of pregnancies the subjects have had. Fifty percent of the women in the study have had 2 or less pregnancies that have been carried to a viable gestational term. There are few which have had 3 or more pregnancies. This corresponds to what we know about how the data was collected. Women have to have had at least 1 previous pregnancy carried to a viable gestational term.  \n",
    "\n",
    "\n",
    "Below, we have included a plot of parity by secondary infertility. There are similar trends for each group of women with similar histories of parity which leads us to believe that it may be indepedent. "
   ]
  },
  {
   "cell_type": "code",
   "execution_count": 15,
   "metadata": {},
   "outputs": [
    {
     "data": {
      "image/png": "[encoded data removed]",
      "text/plain": [
       "<matplotlib.figure.Figure at 0x1a0eecf6d8>"
      ]
     },
     "metadata": {},
     "output_type": "display_data"
    }
   ],
   "source": [
    "seq_col_brew = sns.color_palette(\"Reds\", 2)\n",
    "sns.set_palette(seq_col_brew)\n",
    "plt.title(\"Distribution of parity by Case\")\n",
    "plot3=sns.countplot(x = \"parity\",hue = \"case\",data = abortion)\n",
    "new_labels = ['No Secondary Infertility', 'Secondary Infertility']\n",
    "plot3.legend(labels=new_labels)\n",
    "plt.show()\n"
   ]
  },
  {
   "cell_type": "markdown",
   "metadata": {},
   "source": [
    "After this basic exploratory analysis of variables and their relationship to having the condition of secondary infertility, we wanted to see if any of these variables were related to each other. \n"
   ]
  },
  {
   "cell_type": "code",
   "execution_count": 16,
   "metadata": {},
   "outputs": [
    {
     "data": {
      "image/png": "[encoded data removed]",
      "text/plain": [
       "<matplotlib.figure.Figure at 0x1a18303ba8>"
      ]
     },
     "metadata": {},
     "output_type": "display_data"
    },
    {
     "name": "stdout",
     "output_type": "stream",
     "text": [
      "induced     0   1  2+\n",
      "education            \n",
      "0-5         4   2   6\n",
      "6-11       78  27  15\n",
      "12+        61  39  16\n"
     ]
    }
   ],
   "source": [
    "seq_col_brew = sns.color_palette(\"Reds\",3)\n",
    "sns.set_palette(seq_col_brew)\n",
    "pd.crosstab(abortion.education,abortion.induced).plot(kind='bar')\n",
    "plt.xticks(rotation=360)\n",
    "plt.title(\"Cross Tabulation of Education and Induced Abortions\")\n",
    "plt.xlabel(\"Education in Years\")\n",
    "plt.ylabel(\"count\")\n",
    "plt.show()\n",
    "print(pd.crosstab(abortion.education,abortion.induced))\n"
   ]
  },
  {
   "cell_type": "markdown",
   "metadata": {},
   "source": [
    "In the above plot, we see the distribution of education grouped by number of induced abortions. The majority of women who had no induced abortions come from the education group of 6-11 years. One thing we find interesting is that of the women who have 0-5 years of education, they have the highest relative number of induced abortions. This may indicate that these women are making decisions to have illegal induced abortions more often than women with higher levels of education. However the count of women in this education level is quite low, which may be because of the convinience sample taken from the Department of Obstetrics and Gynaecology.\n",
    "\n",
    "\n",
    "In the plot below is the relationship of the education and spontaneous abortion variables. We see that the trend of number of spontaneous abortions in each level of education is similar. This is expected because levels of education do not cause physical alterations of physiology in women. Spontaneous abortions (miscarriages) are independent of level of education. "
   ]
  },
  {
   "cell_type": "code",
   "execution_count": 17,
   "metadata": {},
   "outputs": [
    {
     "name": "stdout",
     "output_type": "stream",
     "text": [
      "spontaneous   0   1  2+\n",
      "education              \n",
      "0-5           9   1   2\n",
      "6-11         71  33  16\n",
      "12+          61  37  18\n"
     ]
    },
    {
     "data": {
      "image/png": "[encoded data removed]",
      "text/plain": [
       "<matplotlib.figure.Figure at 0x1a1830b630>"
      ]
     },
     "metadata": {},
     "output_type": "display_data"
    }
   ],
   "source": [
    "import seaborn as sns \n",
    "seq_col_brew = sns.color_palette(\"Reds\", 3)\n",
    "sns.set_palette(seq_col_brew)\n",
    "print(pd.crosstab(abortion.education,abortion.spontaneous))\n",
    "pd.crosstab(abortion.education,abortion.spontaneous).plot(kind='bar')\n",
    "plt.title(\"Cross Tabulation of Education and Spontaneous Abortions\")\n",
    "plt.xlabel(\"Education in Years\")\n",
    "plt.ylabel(\"count\")\n",
    "plt.xticks(rotation=360)\n",
    "plt.show()\n"
   ]
  },
  {
   "cell_type": "code",
   "execution_count": 18,
   "metadata": {},
   "outputs": [
    {
     "data": {
      "image/png": "[encoded data removed]",
      "text/plain": [
       "<matplotlib.figure.Figure at 0x1a181a19b0>"
      ]
     },
     "metadata": {},
     "output_type": "display_data"
    },
    {
     "name": "stdout",
     "output_type": "stream",
     "text": [
      "             age\n",
      "education       \n",
      "0-5        35.25\n",
      "6-11       32.85\n",
      "12+        29.72\n"
     ]
    }
   ],
   "source": [
    "abortion.age[abortion.education == \"0-5\"].plot(kind = \"hist\",alpha = 0.3,label = \"0-5 years\",color = \"purple\")\n",
    "abortion.age[abortion.education == \"6-11\"].plot(kind = \"hist\",alpha = 0.3,label = \"6-11 years\")\n",
    "abortion.age[abortion.education == \"12+\"].plot(kind = \"hist\",alpha = 0.3,label = \"12+ years\")\n",
    "seq_col_brew = sns.color_palette(\"Reds\", 3)\n",
    "sns.set_palette(seq_col_brew)\n",
    "plt.xlabel(\"Age\")\n",
    "plt.title(\"Histograms of Age by Education Level\")\n",
    "plt.legend()\n",
    "plt.show()\n",
    "print(pd.DataFrame(round(abortion.groupby('education').mean().age, 2)))\n"
   ]
  },
  {
   "cell_type": "markdown",
   "metadata": {},
   "source": [
    "Above, in the plot of layered histograms, we see that the women with the highest levels of education are actually younger on average than the women in the other age groups. \n",
    "In fact, we see that the more education achieved, the younger on average the women are for this particular sample. We do not believe this association to matter to our analysis. "
   ]
  },
  {
   "cell_type": "markdown",
   "metadata": {},
   "source": [
    "## Data Modeling\n",
    "\n",
    "Due to the structure of our data, we wanted to get rid of as much collinearity as possible. So we decided to remove two of the three variables which the subjects were matched on, education and parity. We think that age is a good predictor of secondary infertility because of our knowledge on female reproductive systems. We have decided to use induced abortion in this model despite it's independence for lack of other important factors. Spontaneous is another variable added to the model because of its association with the outcome explored above. \n",
    "\n",
    "We chose to run a logistic model. We used a logistic regression because we were interested in how secondary infertility may be affected by the important predictors. We hypothesize that there is a relationship with age, number of induced abortions, and number of spontaneous abortions--we believe that as all of the predictors rise in value, meaning as you age and have higher frequencies of induced and spontaneous abortions, you have a higher odds of experiencing secondary infertility. We want to see if a model can classify subjects as either having or not having secondary infertility.\n",
    "\n"
   ]
  },
  {
   "cell_type": "markdown",
   "metadata": {},
   "source": [
    "### Predicting Secondary Infertility with Age, Induced & Spontaneous\n",
    "\n",
    "This section begins discussing a model predicting secondary infertility with predictors of age, induced, and spontaneous. "
   ]
  },
  {
   "cell_type": "code",
   "execution_count": 2,
   "metadata": {},
   "outputs": [
    {
     "name": "stdout",
     "output_type": "stream",
     "text": [
      "0    0\n",
      "1    1\n",
      "2    0\n",
      "3    1\n",
      "4    1\n",
      "dtype: int64\n"
     ]
    }
   ],
   "source": [
    "#reset the data for modeling (we only cleaned to be able to make pretty graphics)\n",
    "import numpy as np\n",
    "import pandas as pd\n",
    "import os \n",
    "import seaborn as sns\n",
    "import matplotlib.pyplot as plt\n",
    "from sklearn import preprocessing\n",
    "from sklearn.model_selection import train_test_split\n",
    "from sklearn.linear_model import LogisticRegression\n",
    "from sklearn import metrics\n",
    "from sklearn import model_selection\n",
    "from sklearn.metrics import confusion_matrix\n",
    "from sklearn.metrics import classification_report\n",
    "from sklearn.metrics import roc_auc_score\n",
    "from sklearn.metrics import roc_curve\n",
    "\n",
    "os.chdir(\"/Users/Danielle/Downloads\")\n",
    "abortion=pd.read_csv(\"abortions.csv\")\n",
    "abortion=abortion.drop(\"Unnamed: 0\",1)\n",
    "\n",
    "\n",
    "X=abortion[[\"age\",\"induced\",\"spontaneous\"]]\n",
    "y=abortion.case\n",
    "X_train, X_test, y_train, y_test = train_test_split(X, y, test_size=0.3, random_state=34) \n",
    "#chose a test size of 30% \n",
    "\n",
    "#Single instance of logistic \n",
    "logreg = LogisticRegression()\n",
    "logreg.fit(X_train, y_train)\n",
    "\n",
    "\n",
    "y_pred = pd.Series(logreg.predict(X_test))\n",
    "print(y_pred.head()) #1 indicates secondary infertility, 0 indicates no secondary infertility\n"
   ]
  },
  {
   "cell_type": "markdown",
   "metadata": {},
   "source": [
    "Below, we have printed the exponentiated coefficients from the model, the odds. From the odds we see that age is right around 1, meaning it really plays no role in predicting secondary infertility. An induced abortion means you are 40% as likely to have secondary infertility as someone with no induced abortion. And if a subject has a miscarriage, they are 3 times as likely to have seconday infertility. \n",
    "\n"
   ]
  },
  {
   "cell_type": "code",
   "execution_count": 3,
   "metadata": {},
   "outputs": [
    {
     "name": "stdout",
     "output_type": "stream",
     "text": [
      "                              0\n",
      "age          0.9898815166952069\n",
      "induced      1.3961770305683052\n",
      "spontaneous   3.164680004829936\n"
     ]
    }
   ],
   "source": [
    "coeff = logreg.coef_.T\n",
    "names = [\"age\",\"induced\",\"spontaneous\"]\n",
    "#from sklearn.feature_selection import chi2\n",
    "#scores, pvalues = chi2(X_test, y_test)\n",
    "\n",
    "df = pd.DataFrame(np.exp(coeff),dtype='str', index=names)\n",
    "#df[\"pvals\"] = pvalues\n",
    "\n",
    "print(df)  \n",
    "\n",
    "\n",
    "\n"
   ]
  },
  {
   "cell_type": "markdown",
   "metadata": {},
   "source": [
    "Next, we analyzed the confusion matrix for this model. "
   ]
  },
  {
   "cell_type": "code",
   "execution_count": 63,
   "metadata": {},
   "outputs": [
    {
     "name": "stdout",
     "output_type": "stream",
     "text": [
      "[[41  8]\n",
      " [18  8]]\n"
     ]
    }
   ],
   "source": [
    "#confusion matrix for model\n",
    "confusion_matrix = confusion_matrix(y_test, y_pred)\n",
    "print(confusion_matrix)"
   ]
  },
  {
   "cell_type": "markdown",
   "metadata": {},
   "source": [
    "This model has an accuracy of around 65%.  There is a high rate of predictions which are false negatives, meaning that the model predicts no secondary infertility when in reality they do have it. Conversely, there are eight false positive predictions, meaning that these actually did not have secondary infertility but the model predicted they did. We think, in this context, that having a higher false negative rate is less favorable because these women would actually have secondary infertility but the model predicts that they don't have the condition--this could lead to false hope. "
   ]
  },
  {
   "cell_type": "code",
   "execution_count": 48,
   "metadata": {},
   "outputs": [
    {
     "name": "stdout",
     "output_type": "stream",
     "text": [
      "             precision    recall  f1-score   support\n",
      "\n",
      "          0       0.69      0.84      0.76        49\n",
      "          1       0.50      0.31      0.38        26\n",
      "\n",
      "avg / total       0.63      0.65      0.63        75\n",
      "\n"
     ]
    }
   ],
   "source": [
    "print(classification_report(y_test, y_pred))"
   ]
  },
  {
   "cell_type": "markdown",
   "metadata": {},
   "source": [
    "The precision is the ratio true pos / (true pos + false pos) The precision is intuitively the ability of the classifier not to label as positive a sample that is negative. \n",
    "\n",
    "Of 75 women in the testing data:\n",
    "When a woman doesnt actually have secondary infertility, the test is correctly predicting this 69% of the time. \n",
    "When a woman does have secondary interfility, the test is correctly predicting this 50% of the time. This is unfavorable as only about 50% of the women that do have it would be predicted to have secondary infertility. This model becomes basically useless because it is no better at predicting than a coin flip. We will perform cross validation to validate these findings. "
   ]
  },
  {
   "cell_type": "code",
   "execution_count": 49,
   "metadata": {},
   "outputs": [
    {
     "name": "stdout",
     "output_type": "stream",
     "text": [
      "10-fold cross validation average accuracy: 0.734\n"
     ]
    }
   ],
   "source": [
    "#K-fold CV logistic for model1\n",
    "kfold = model_selection.KFold(n_splits=10, random_state=7)\n",
    "modelCV = LogisticRegression()\n",
    "scoring = 'accuracy'\n",
    "results = model_selection.cross_val_score(modelCV, X_train, y_train, cv=kfold, scoring=scoring)\n",
    "print(\"10-fold cross validation average accuracy: %.3f\" % (results.mean()))\n"
   ]
  },
  {
   "cell_type": "markdown",
   "metadata": {},
   "source": [
    "After performing 10-fold cross validation. we see our accuracy increase to 73%. \n",
    "This accuracy is still not great. \n",
    "Let's take a look at an ROC curve to see a visual representation of how well the model is predicting. "
   ]
  },
  {
   "cell_type": "code",
   "execution_count": 50,
   "metadata": {},
   "outputs": [
    {
     "data": {
      "image/png": "[encoded data removed]",
      "text/plain": [
       "<matplotlib.figure.Figure at 0x1a168740f0>"
      ]
     },
     "metadata": {},
     "output_type": "display_data"
    }
   ],
   "source": [
    "#roc curve model1\n",
    "\n",
    "\n",
    "logit_roc_auc = roc_auc_score(y_test, logreg.predict(X_test))\n",
    "fpr, tpr, thresholds = roc_curve(y_test, logreg.predict_proba(X_test)[:,1])\n",
    "plt.figure()\n",
    "plt.plot(fpr, tpr, label='Logistic Regression (area = %0.2f)' % logit_roc_auc)\n",
    "plt.plot([0, 1], [0, 1],'r--')\n",
    "plt.xlim([0.0, 1.0])\n",
    "plt.ylim([0.0, 1.05])\n",
    "plt.xlabel('False Positive Rate')\n",
    "plt.ylabel('True Positive Rate')\n",
    "plt.title('Receiver operating characteristic')\n",
    "plt.legend(loc=\"lower right\")\n",
    "plt.savefig('Log_ROC')\n",
    "plt.show()"
   ]
  },
  {
   "cell_type": "markdown",
   "metadata": {},
   "source": [
    "The area under the curve depends on how well the test separates those with or without secondary infertility. Because an accuracy of 0.50 is deemed worthless, we see that our three predictors are not doing a good job, as the area is only 0.57.\n",
    "\n",
    "Because our first model does not perform well. We have decided to explore a second model using an additional predictor, parity. "
   ]
  },
  {
   "cell_type": "markdown",
   "metadata": {},
   "source": [
    "### Predicting Secondary Infertility with Age, Parity, Induced & Spontaneous"
   ]
  },
  {
   "cell_type": "code",
   "execution_count": 4,
   "metadata": {},
   "outputs": [],
   "source": [
    "import numpy as np\n",
    "import pandas as pd\n",
    "import os \n",
    "import seaborn as sns\n",
    "import matplotlib.pyplot as plt\n",
    "from sklearn import preprocessing\n",
    "from sklearn.model_selection import train_test_split\n",
    "from sklearn.linear_model import LogisticRegression\n",
    "from sklearn import metrics\n",
    "from sklearn import model_selection\n",
    "from sklearn.metrics import confusion_matrix\n",
    "from sklearn.metrics import classification_report\n",
    "from sklearn.metrics import roc_auc_score\n",
    "from sklearn.metrics import roc_curve\n",
    "\n",
    "os.chdir(\"/Users/Danielle/Downloads\")\n",
    "abortion=pd.read_csv(\"abortions.csv\")\n",
    "abortion=abortion.drop(\"Unnamed: 0\",1)\n",
    "\n",
    "X=abortion[[\"age\",\"parity\",\"induced\",\"spontaneous\"]]\n",
    "y=abortion.case\n",
    "X_train, X_test, y_train, y_test = train_test_split(X, y, test_size=0.3, random_state=34)\n"
   ]
  },
  {
   "cell_type": "code",
   "execution_count": 5,
   "metadata": {},
   "outputs": [
    {
     "name": "stdout",
     "output_type": "stream",
     "text": [
      "0    0\n",
      "1    1\n",
      "2    0\n",
      "3    1\n",
      "4    1\n",
      "dtype: int64\n"
     ]
    }
   ],
   "source": [
    "logreg = LogisticRegression()\n",
    "logreg.fit(X_train, y_train)\n",
    "\n",
    "y_pred = pd.Series(logreg.predict(X_test))\n",
    "print(y_pred.head())\n"
   ]
  },
  {
   "cell_type": "markdown",
   "metadata": {},
   "source": [
    "Here, we have again printed the exponentiated coefficients for interpretation. We see that for each extra child carried to a gestational term of 20 weeks a woman is 46% less likely to have secondary infertility. The odds for induced and spontaneous are much higher. A woman who has had an induced abortion is 2.44 times as likely to have secondary infertility. A woman who has had a miscarriage is 5.6 times as likely to have secondary infertility. "
   ]
  },
  {
   "cell_type": "code",
   "execution_count": 67,
   "metadata": {},
   "outputs": [
    {
     "name": "stdout",
     "output_type": "stream",
     "text": [
      "                              0\n",
      "age          1.0090438960148067\n",
      "parity       0.5411986838483909\n",
      "induced       2.437431030123143\n",
      "spontaneous   5.642926084923594\n"
     ]
    }
   ],
   "source": [
    "coeff = logreg.coef_.T\n",
    "names = [\"age\",\"parity\",\"induced\",\"spontaneous\"]\n",
    "#from sklearn.feature_selection import chi2\n",
    "#scores, pvalues = chi2(X_test, y_test)\n",
    "\n",
    "df = pd.DataFrame(np.exp(coeff),dtype='str', index=names)\n",
    "#df[\"pvals\"] = pvalues\n",
    "\n",
    "print(df)  \n",
    "\n"
   ]
  },
  {
   "cell_type": "markdown",
   "metadata": {},
   "source": [
    "Next, we will look at the confusion matrix. "
   ]
  },
  {
   "cell_type": "code",
   "execution_count": 60,
   "metadata": {},
   "outputs": [
    {
     "name": "stdout",
     "output_type": "stream",
     "text": [
      "[[36 13]\n",
      " [ 8 18]]\n"
     ]
    }
   ],
   "source": [
    "confusion_matrix = confusion_matrix(y_test, y_pred)\n",
    "print(confusion_matrix)"
   ]
  },
  {
   "cell_type": "markdown",
   "metadata": {},
   "source": [
    "This model has an accuracy of around 72%.  \n",
    "\n",
    "This model has a higher rate of false positives than false negatives, meaning the model more often predicts secondary infertility when in reality the subject does not have the condition.  As mentioned previously, this is arguably more favorable because it would be better to be told you have secondary infertility and find out that is not true than to be told you don't have the condition and not be able to become pregnant.  \n"
   ]
  },
  {
   "cell_type": "code",
   "execution_count": 55,
   "metadata": {},
   "outputs": [
    {
     "name": "stdout",
     "output_type": "stream",
     "text": [
      "             precision    recall  f1-score   support\n",
      "\n",
      "          0       0.82      0.73      0.77        49\n",
      "          1       0.58      0.69      0.63        26\n",
      "\n",
      "avg / total       0.74      0.72      0.72        75\n",
      "\n"
     ]
    }
   ],
   "source": [
    "print(classification_report(y_test, y_pred))\n"
   ]
  },
  {
   "cell_type": "markdown",
   "metadata": {},
   "source": [
    "Of 75 women in the testing data:\n",
    "When a woman doesnt actually have secondary infertility, the test is correctly predicting this 82% of the time. \n",
    "When a woman does have secondary interfility, the test is correctly predicting this 58% of the time. This is unfavorable as only about 60% of the women that do have it would be predicted to have secondary infertility. This is quite low in terms of accuracy of prediction. "
   ]
  },
  {
   "cell_type": "code",
   "execution_count": 39,
   "metadata": {},
   "outputs": [
    {
     "name": "stdout",
     "output_type": "stream",
     "text": [
      "10-fold cross validation average accuracy: 0.728\n"
     ]
    }
   ],
   "source": [
    "kfold = model_selection.KFold(n_splits=10, random_state=7)\n",
    "modelCV = LogisticRegression()\n",
    "scoring = 'accuracy'\n",
    "results = model_selection.cross_val_score(modelCV, X_train, y_train, cv=kfold, scoring=scoring)\n",
    "print(\"10-fold cross validation average accuracy: %.3f\" % (results.mean()))"
   ]
  },
  {
   "cell_type": "markdown",
   "metadata": {},
   "source": [
    "After performing 10-fold cross validation with this model. we see the accuracy increase only slightly up to just under 73%"
   ]
  },
  {
   "cell_type": "code",
   "execution_count": 40,
   "metadata": {
    "scrolled": true
   },
   "outputs": [
    {
     "data": {
      "image/png": "[encoded data removed]",
      "text/plain": [
       "<matplotlib.figure.Figure at 0x1a166a88d0>"
      ]
     },
     "metadata": {},
     "output_type": "display_data"
    }
   ],
   "source": [
    "logit_roc_auc = roc_auc_score(y_test, logreg.predict(X_test))\n",
    "fpr, tpr, thresholds = roc_curve(y_test, logreg.predict_proba(X_test)[:,1])\n",
    "plt.figure()\n",
    "plt.plot(fpr, tpr, label='Logistic Regression (area = %0.2f)' % logit_roc_auc)\n",
    "plt.plot([0, 1], [0, 1],'r--')\n",
    "plt.xlim([0.0, 1.0])\n",
    "plt.ylim([0.0, 1.05])\n",
    "plt.xlabel('False Positive Rate')\n",
    "plt.ylabel('True Positive Rate')\n",
    "plt.title('Receiver operating characteristic')\n",
    "plt.legend(loc=\"lower right\")\n",
    "plt.savefig('Log_ROC')\n",
    "plt.show()"
   ]
  },
  {
   "cell_type": "markdown",
   "metadata": {},
   "source": [
    "The area under this second ROC curve is 0.71. This is an improvement from the previous model, which indicates that parity is a good additional predictor of a subject experiencing secondary infertility.\n"
   ]
  },
  {
   "cell_type": "markdown",
   "metadata": {},
   "source": [
    "## Conclusions\n",
    "\n",
    "Overall, we have found that more information is needed to increase the accuracy of prediction of secondary infertility. Neither of the models we explored had outstanding accuracy, although 73% isn't too bad. Of the predictors we had considered, the strongest predictor of this condition is the count of spontaneous abortions. There is a strong association between the number of miscarriages and having secondary infertility. Occasionally, we were surprised at the conclusions that we had discovered; This includes the finding that the number of induced abortions is not associated with secondary infertility. We also believe that, had this not been a convinience sample and data from a matched-case study, we would have more significance in some of these predictors because they would not have been used as blocks in the study design. \n",
    "\n",
    "\n",
    "\n",
    "\n"
   ]
  }
 ],
 "metadata": {
  "kernelspec": {
   "display_name": "Python 3",
   "language": "python",
   "name": "python3"
  },
  "language_info": {
   "codemirror_mode": {
    "name": "ipython",
    "version": 3
   },
   "file_extension": ".py",
   "mimetype": "text/x-python",
   "name": "python",
   "nbconvert_exporter": "python",
   "pygments_lexer": "ipython3",
   "version": "3.6.4"
  }
 },
 "nbformat": 4,
 "nbformat_minor": 2
}
